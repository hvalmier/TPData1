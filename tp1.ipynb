{
  "nbformat": 4,
  "nbformat_minor": 0,
  "metadata": {
    "colab": {
      "provenance": [],
      "authorship_tag": "ABX9TyNa7dsTTH55aEWseJHIK9+d",
      "include_colab_link": true
    },
    "kernelspec": {
      "name": "python3",
      "display_name": "Python 3"
    },
    "language_info": {
      "name": "python"
    }
  },
  "cells": [
    {
      "cell_type": "markdown",
      "metadata": {
        "id": "view-in-github",
        "colab_type": "text"
      },
      "source": [
        "<a href=\"https://colab.research.google.com/github/hvalmier/TPData1/blob/main/tp1.ipynb\" target=\"_parent\"><img src=\"https://colab.research.google.com/assets/colab-badge.svg\" alt=\"Open In Colab\"/></a>"
      ]
    },
    {
      "cell_type": "code",
      "execution_count": 1,
      "metadata": {
        "id": "CrfgDk_sFEX-",
        "collapsed": true
      },
      "outputs": [],
      "source": [
        "from pyspark.sql import SparkSession"
      ]
    },
    {
      "cell_type": "code",
      "source": [
        "from pyspark.sql.functions import to_date"
      ],
      "metadata": {
        "id": "Tiy2nxgvbRjb"
      },
      "execution_count": null,
      "outputs": []
    },
    {
      "cell_type": "markdown",
      "source": [
        "Créer une session Spark"
      ],
      "metadata": {
        "id": "Xam8aDglbeZy"
      }
    },
    {
      "cell_type": "code",
      "source": [
        "spark = SparkSession.builder \\\n",
        "    .appName(\"Analyse de films\") \\\n",
        "    .getOrCreate()"
      ],
      "metadata": {
        "id": "1mBvvDjSbi3X"
      },
      "execution_count": null,
      "outputs": []
    },
    {
      "cell_type": "markdown",
      "source": [
        "Charger les données depuis un fichier CSV"
      ],
      "metadata": {
        "id": "_8GHB1D_bmbN"
      }
    },
    {
      "cell_type": "code",
      "source": [
        "file_path = \"/Rotten Tomatoes Movies.csv\"  # Indiquer le chemin du fichier CSV\n",
        "df = spark.read.option(\"header\", \"true\").option(\"inferSchema\", \"true\").csv(file_path)"
      ],
      "metadata": {
        "id": "yaLGZz1YboXg"
      },
      "execution_count": null,
      "outputs": []
    },
    {
      "cell_type": "markdown",
      "source": [
        "Afficher les colonnes pour vérifier ce que nous avons"
      ],
      "metadata": {
        "id": "2pbQSE4zbp-G"
      }
    },
    {
      "cell_type": "code",
      "source": [
        "print(\"Colonnes disponibles:\", df.columns)"
      ],
      "metadata": {
        "id": "Vu8j9GgZbued"
      },
      "execution_count": null,
      "outputs": []
    },
    {
      "cell_type": "markdown",
      "source": [
        "Nettoyer les données : supprimer les lignes vides"
      ],
      "metadata": {
        "id": "jlMPRLLrbwkM"
      }
    },
    {
      "cell_type": "code",
      "source": [
        "df_cleaned = df.na.drop()"
      ],
      "metadata": {
        "id": "9UIMbJp2b2jc"
      },
      "execution_count": null,
      "outputs": []
    },
    {
      "cell_type": "markdown",
      "source": [
        "Convertir la colonne \"in_theaters_date\" en format date"
      ],
      "metadata": {
        "id": "CrFNCkBod7U3"
      }
    },
    {
      "cell_type": "code",
      "source": [
        "df_cleaned = df_cleaned.withColumn(\"in_theaters_date\", to_date(\"in_theaters_date\", \"yyyy-MM-dd\"))"
      ],
      "metadata": {
        "id": "0mt6_TpueDM6"
      },
      "execution_count": null,
      "outputs": []
    },
    {
      "cell_type": "markdown",
      "source": [
        "Afficher les premières lignes du DataFrame après nettoyage"
      ],
      "metadata": {
        "id": "OY6qFDmHeH1O"
      }
    },
    {
      "cell_type": "code",
      "source": [
        "df_cleaned.show(5)"
      ],
      "metadata": {
        "id": "5Y5WkqDUeLXT"
      },
      "execution_count": null,
      "outputs": []
    },
    {
      "cell_type": "markdown",
      "source": [
        "Compter combien de films il y a dans chaque genre"
      ],
      "metadata": {
        "id": "97ZY4TfPeziJ"
      }
    },
    {
      "cell_type": "code",
      "source": [
        "df_genre_count = df_cleaned.groupBy(\"genre\").count()\n",
        "df_genre_count.show()"
      ],
      "metadata": {
        "id": "L7gcxFtJf3g0"
      },
      "execution_count": null,
      "outputs": []
    },
    {
      "cell_type": "markdown",
      "source": [
        "Filtrer les films avec une note Tomatometer supérieure à 80"
      ],
      "metadata": {
        "id": "QBF4iCzYf-OP"
      }
    },
    {
      "cell_type": "code",
      "source": [
        "df_high_tomatometer = df_cleaned.filter(df_cleaned[\"tomatometer_rating\"] > 80)\n",
        "df_high_tomatometer.show(5)"
      ],
      "metadata": {
        "id": "0Svksuo_gAH2"
      },
      "execution_count": null,
      "outputs": []
    },
    {
      "cell_type": "markdown",
      "source": [
        "Calculer la durée moyenne des films"
      ],
      "metadata": {
        "id": "CiNezPxpgD-s"
      }
    },
    {
      "cell_type": "code",
      "source": [
        "df_avg_runtime = df_cleaned.agg({\"runtime_in_minutes\": \"avg\"})\n",
        "df_avg_runtime.show()"
      ],
      "metadata": {
        "id": "77kNNYUjgG0Y"
      },
      "execution_count": null,
      "outputs": []
    },
    {
      "cell_type": "markdown",
      "source": [
        "Compter combien de films il y a pour chaque studio"
      ],
      "metadata": {
        "id": "Vxj1dd5mgJFI"
      }
    },
    {
      "cell_type": "code",
      "source": [
        "df_studio_count = df_cleaned.groupBy(\"studio_name\").count()\n",
        "df_studio_count.show()"
      ],
      "metadata": {
        "id": "79dJ3kDogMWE"
      },
      "execution_count": null,
      "outputs": []
    },
    {
      "cell_type": "markdown",
      "source": [
        "Compter combien de films il y a pour directeur"
      ],
      "metadata": {
        "id": "2KQovmVtgca6"
      }
    },
    {
      "cell_type": "code",
      "source": [
        "df_director = df_cleaned.groupBy(\"directors\").count()\n",
        "df_director.show()\n"
      ],
      "metadata": {
        "id": "ekU8R12cgc-X"
      },
      "execution_count": null,
      "outputs": []
    },
    {
      "cell_type": "markdown",
      "source": [
        "Terminer la session Spark"
      ],
      "metadata": {
        "id": "EyflSJ6MgeuI"
      }
    },
    {
      "cell_type": "code",
      "source": [
        "spark.stop()"
      ],
      "metadata": {
        "id": "Hdl5qBEeggml"
      },
      "execution_count": null,
      "outputs": []
    }
  ]
}