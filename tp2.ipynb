{
  "nbformat": 4,
  "nbformat_minor": 0,
  "metadata": {
    "colab": {
      "provenance": [],
      "authorship_tag": "ABX9TyPKd1AAebEeDhRPLXJR9YFA",
      "include_colab_link": true
    },
    "kernelspec": {
      "name": "python3",
      "display_name": "Python 3"
    },
    "language_info": {
      "name": "python"
    }
  },
  "cells": [
    {
      "cell_type": "markdown",
      "metadata": {
        "id": "view-in-github",
        "colab_type": "text"
      },
      "source": [
        "<a href=\"https://colab.research.google.com/github/hvalmier/TPData1/blob/main/tp2.ipynb\" target=\"_parent\"><img src=\"https://colab.research.google.com/assets/colab-badge.svg\" alt=\"Open In Colab\"/></a>"
      ]
    },
    {
      "cell_type": "code",
      "execution_count": null,
      "metadata": {
        "id": "SNpKcnfXMtzQ"
      },
      "outputs": [],
      "source": [
        "from pyspark.sql import SparkSession"
      ]
    },
    {
      "cell_type": "code",
      "source": [
        "from pyspark.sql.functions import col, when\n",
        "import missingno as msno"
      ],
      "metadata": {
        "id": "PLlx7nN4TzM6"
      },
      "execution_count": null,
      "outputs": []
    },
    {
      "cell_type": "code",
      "source": [
        "import matplotlib.pyplot as plt"
      ],
      "metadata": {
        "id": "QDYniZZJT1Jq"
      },
      "execution_count": null,
      "outputs": []
    },
    {
      "cell_type": "markdown",
      "source": [
        "Initialisation de Spark"
      ],
      "metadata": {
        "id": "pQyo6QY2T5IZ"
      }
    },
    {
      "cell_type": "code",
      "source": [
        "spark = SparkSession.builder.appName(\"NetflixDataProcessing\").getOrCreate()"
      ],
      "metadata": {
        "id": "Hu2jj5F-T7Oh"
      },
      "execution_count": null,
      "outputs": []
    },
    {
      "cell_type": "markdown",
      "source": [
        "Spécifiez le chemin correct"
      ],
      "metadata": {
        "id": "Ux6wuwkpT91m"
      }
    },
    {
      "cell_type": "code",
      "source": [
        "file_path = \"netflix1.csv\""
      ],
      "metadata": {
        "id": "kKJ8MFT0T-ef"
      },
      "execution_count": null,
      "outputs": []
    },
    {
      "cell_type": "markdown",
      "source": [
        "Vérification de l'existence du fichier"
      ],
      "metadata": {
        "id": "MFcBiCC_UBXF"
      }
    },
    {
      "cell_type": "code",
      "source": [
        "import os\n",
        "if not os.path.exists(file_path):\n",
        "    raise FileNotFoundError(f\"Le fichier n'existe pas : {file_path}\")"
      ],
      "metadata": {
        "id": "Itpu_a9pUFyw"
      },
      "execution_count": null,
      "outputs": []
    },
    {
      "cell_type": "markdown",
      "source": [
        "Charger les données"
      ],
      "metadata": {
        "id": "HnicTyqMUH_f"
      }
    },
    {
      "cell_type": "code",
      "source": [
        "df = spark.read.csv(file_path, header=True, inferSchema=True)"
      ],
      "metadata": {
        "id": "8JtBRKsgUIzg"
      },
      "execution_count": null,
      "outputs": []
    },
    {
      "cell_type": "markdown",
      "source": [
        "Normalisation des valeurs manquantes"
      ],
      "metadata": {
        "id": "LM4ZEPw3UKke"
      }
    },
    {
      "cell_type": "code",
      "source": [
        "null_values = [\"Not Given\", \"N/A\", \"\"]\n",
        "df = df.select([when(col(c).isin(null_values) | (col(c) == \"\"), None).otherwise(col(c)).alias(c) for c in df.columns])"
      ],
      "metadata": {
        "id": "Edh7HgPrUMvV"
      },
      "execution_count": null,
      "outputs": []
    },
    {
      "cell_type": "markdown",
      "source": [
        "Afficher le DataFrame PySpark"
      ],
      "metadata": {
        "id": "dm3ux7u7UO0P"
      }
    },
    {
      "cell_type": "code",
      "source": [
        "df.show(5)"
      ],
      "metadata": {
        "id": "4iXU-8etUQxd"
      },
      "execution_count": null,
      "outputs": []
    },
    {
      "cell_type": "markdown",
      "source": [
        "Visualisation des données manquantes"
      ],
      "metadata": {
        "id": "UX432oC5USdb"
      }
    },
    {
      "cell_type": "code",
      "source": [
        "pandas_df = df.limit(1000).toPandas()\n",
        "msno.bar(pandas_df)\n",
        "plt.show()"
      ],
      "metadata": {
        "id": "cmemgx7XUUTa"
      },
      "execution_count": null,
      "outputs": []
    },
    {
      "cell_type": "markdown",
      "source": [
        "Nettoyage et réinspection"
      ],
      "metadata": {
        "id": "_jJq1Vy5UYDr"
      }
    },
    {
      "cell_type": "code",
      "source": [
        "key_columns = [\"director\", \"country\"]\n",
        "df_cleaned = df.dropna(subset=key_columns)\n",
        "\n",
        "pandas_df_cleaned = df_cleaned.limit(1000).toPandas()\n",
        "msno.bar(pandas_df_cleaned)\n",
        "plt.show()"
      ],
      "metadata": {
        "id": "ofsPZ4OtUa6g"
      },
      "execution_count": null,
      "outputs": []
    },
    {
      "cell_type": "markdown",
      "source": [
        "Analyse finale"
      ],
      "metadata": {
        "id": "FJvBHoTLUc6C"
      }
    },
    {
      "cell_type": "code",
      "source": [
        "print(f\"Avant nettoyage : {df.count()} lignes\")\n",
        "print(f\"Après nettoyage : {df_cleaned.count()} lignes\")"
      ],
      "metadata": {
        "id": "nONo1gfpUj2z"
      },
      "execution_count": null,
      "outputs": []
    }
  ]
}